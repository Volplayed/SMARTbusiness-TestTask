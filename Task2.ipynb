{
 "cells": [
  {
   "cell_type": "markdown",
   "metadata": {},
   "source": [
    "## Imports"
   ]
  },
  {
   "cell_type": "code",
   "execution_count": 2,
   "metadata": {},
   "outputs": [],
   "source": [
    "import numpy as np\n",
    "import pandas as pd\n",
    "import seaborn as sns\n",
    "import matplotlib.pyplot as plt\n",
    "from tensorflow.keras.models import Sequential\n",
    "from tensorflow.keras.layers import Dense, Dropout, LSTM, BatchNormalization, Conv1D, MaxPooling1D, Flatten, Embedding, TextVectorization, GlobalAveragePooling1D\n",
    "from tensorflow.keras.optimizers import Adam\n",
    "from tensorflow.keras.callbacks import EarlyStopping\n",
    "from sklearn.preprocessing import LabelEncoder\n",
    "import tensorflow as tf\n",
    "import re\n",
    "import string\n"
   ]
  },
  {
   "cell_type": "markdown",
   "metadata": {},
   "source": [
    "## Load data"
   ]
  },
  {
   "cell_type": "code",
   "execution_count": 3,
   "metadata": {},
   "outputs": [],
   "source": [
    "df_order_reviews = pd.read_csv('S_Data\\\\order_reviews.csv')\n",
    "df_order_items = pd.read_csv('S_Data\\\\order_items.csv')"
   ]
  },
  {
   "cell_type": "markdown",
   "metadata": {},
   "source": [
    "## Data exploration"
   ]
  },
  {
   "cell_type": "code",
   "execution_count": 4,
   "metadata": {},
   "outputs": [
    {
     "data": {
      "text/html": [
       "<div>\n",
       "<style scoped>\n",
       "    .dataframe tbody tr th:only-of-type {\n",
       "        vertical-align: middle;\n",
       "    }\n",
       "\n",
       "    .dataframe tbody tr th {\n",
       "        vertical-align: top;\n",
       "    }\n",
       "\n",
       "    .dataframe thead th {\n",
       "        text-align: right;\n",
       "    }\n",
       "</style>\n",
       "<table border=\"1\" class=\"dataframe\">\n",
       "  <thead>\n",
       "    <tr style=\"text-align: right;\">\n",
       "      <th></th>\n",
       "      <th>review_id</th>\n",
       "      <th>order_id</th>\n",
       "      <th>review_score</th>\n",
       "      <th>review_comment_title</th>\n",
       "      <th>review_comment_message</th>\n",
       "      <th>review_creation_date</th>\n",
       "      <th>review_answer_timestamp</th>\n",
       "    </tr>\n",
       "  </thead>\n",
       "  <tbody>\n",
       "    <tr>\n",
       "      <th>0</th>\n",
       "      <td>7bc2406110b926393aa56f80a40eba40</td>\n",
       "      <td>73fc7af87114b39712e6da79b0a377eb</td>\n",
       "      <td>4</td>\n",
       "      <td>NaN</td>\n",
       "      <td>NaN</td>\n",
       "      <td>2018-01-18 00:00:00</td>\n",
       "      <td>2018-01-18 21:46:59</td>\n",
       "    </tr>\n",
       "    <tr>\n",
       "      <th>1</th>\n",
       "      <td>80e641a11e56f04c1ad469d5645fdfde</td>\n",
       "      <td>a548910a1c6147796b98fdf73dbeba33</td>\n",
       "      <td>5</td>\n",
       "      <td>NaN</td>\n",
       "      <td>NaN</td>\n",
       "      <td>2018-03-10 00:00:00</td>\n",
       "      <td>2018-03-11 03:05:13</td>\n",
       "    </tr>\n",
       "    <tr>\n",
       "      <th>2</th>\n",
       "      <td>228ce5500dc1d8e020d8d1322874b6f0</td>\n",
       "      <td>f9e4b658b201a9f2ecdecbb34bed034b</td>\n",
       "      <td>5</td>\n",
       "      <td>NaN</td>\n",
       "      <td>NaN</td>\n",
       "      <td>2018-02-17 00:00:00</td>\n",
       "      <td>2018-02-18 14:36:24</td>\n",
       "    </tr>\n",
       "    <tr>\n",
       "      <th>3</th>\n",
       "      <td>e64fb393e7b32834bb789ff8bb30750e</td>\n",
       "      <td>658677c97b385a9be170737859d3511b</td>\n",
       "      <td>5</td>\n",
       "      <td>NaN</td>\n",
       "      <td>Recebi bem antes do prazo estipulado.</td>\n",
       "      <td>2017-04-21 00:00:00</td>\n",
       "      <td>2017-04-21 22:02:06</td>\n",
       "    </tr>\n",
       "    <tr>\n",
       "      <th>4</th>\n",
       "      <td>f7c4243c7fe1938f181bec41a392bdeb</td>\n",
       "      <td>8e6bfb81e283fa7e4f11123a3fb894f1</td>\n",
       "      <td>5</td>\n",
       "      <td>NaN</td>\n",
       "      <td>Parabéns lojas lannister adorei comprar pela I...</td>\n",
       "      <td>2018-03-01 00:00:00</td>\n",
       "      <td>2018-03-02 10:26:53</td>\n",
       "    </tr>\n",
       "  </tbody>\n",
       "</table>\n",
       "</div>"
      ],
      "text/plain": [
       "                          review_id                          order_id   \n",
       "0  7bc2406110b926393aa56f80a40eba40  73fc7af87114b39712e6da79b0a377eb  \\\n",
       "1  80e641a11e56f04c1ad469d5645fdfde  a548910a1c6147796b98fdf73dbeba33   \n",
       "2  228ce5500dc1d8e020d8d1322874b6f0  f9e4b658b201a9f2ecdecbb34bed034b   \n",
       "3  e64fb393e7b32834bb789ff8bb30750e  658677c97b385a9be170737859d3511b   \n",
       "4  f7c4243c7fe1938f181bec41a392bdeb  8e6bfb81e283fa7e4f11123a3fb894f1   \n",
       "\n",
       "   review_score review_comment_title   \n",
       "0             4                  NaN  \\\n",
       "1             5                  NaN   \n",
       "2             5                  NaN   \n",
       "3             5                  NaN   \n",
       "4             5                  NaN   \n",
       "\n",
       "                              review_comment_message review_creation_date   \n",
       "0                                                NaN  2018-01-18 00:00:00  \\\n",
       "1                                                NaN  2018-03-10 00:00:00   \n",
       "2                                                NaN  2018-02-17 00:00:00   \n",
       "3              Recebi bem antes do prazo estipulado.  2017-04-21 00:00:00   \n",
       "4  Parabéns lojas lannister adorei comprar pela I...  2018-03-01 00:00:00   \n",
       "\n",
       "  review_answer_timestamp  \n",
       "0     2018-01-18 21:46:59  \n",
       "1     2018-03-11 03:05:13  \n",
       "2     2018-02-18 14:36:24  \n",
       "3     2017-04-21 22:02:06  \n",
       "4     2018-03-02 10:26:53  "
      ]
     },
     "execution_count": 4,
     "metadata": {},
     "output_type": "execute_result"
    }
   ],
   "source": [
    "df_order_reviews.head()"
   ]
  },
  {
   "cell_type": "code",
   "execution_count": 5,
   "metadata": {},
   "outputs": [
    {
     "data": {
      "text/plain": [
       "review_score\n",
       "5    57420\n",
       "4    19200\n",
       "1    11858\n",
       "3     8287\n",
       "2     3235\n",
       "Name: count, dtype: int64"
      ]
     },
     "execution_count": 5,
     "metadata": {},
     "output_type": "execute_result"
    }
   ],
   "source": [
    "df_order_reviews.review_score.value_counts()"
   ]
  },
  {
   "cell_type": "code",
   "execution_count": 6,
   "metadata": {},
   "outputs": [
    {
     "data": {
      "text/plain": [
       "review_id                      0\n",
       "order_id                       0\n",
       "review_score                   0\n",
       "review_comment_title       88285\n",
       "review_comment_message     58247\n",
       "review_creation_date           0\n",
       "review_answer_timestamp        0\n",
       "dtype: int64"
      ]
     },
     "execution_count": 6,
     "metadata": {},
     "output_type": "execute_result"
    }
   ],
   "source": [
    "df_order_reviews.isna().sum()"
   ]
  },
  {
   "cell_type": "markdown",
   "metadata": {},
   "source": [
    "# First part - Emotion classification"
   ]
  },
  {
   "cell_type": "markdown",
   "metadata": {},
   "source": [
    "## Data preprocessing"
   ]
  },
  {
   "cell_type": "code",
   "execution_count": 7,
   "metadata": {},
   "outputs": [],
   "source": [
    "#drop empty comments\n",
    "df_order_reviews.dropna(subset=['review_comment_message'], inplace=True)"
   ]
  },
  {
   "cell_type": "code",
   "execution_count": 8,
   "metadata": {},
   "outputs": [
    {
     "data": {
      "text/plain": [
       "(41753, 7)"
      ]
     },
     "execution_count": 8,
     "metadata": {},
     "output_type": "execute_result"
    }
   ],
   "source": [
    "df_order_reviews.shape"
   ]
  },
  {
   "cell_type": "code",
   "execution_count": 9,
   "metadata": {},
   "outputs": [],
   "source": [
    "def clean_text(text):\n",
    "    text = text.lower().replace('\\n', ' ').replace('\\r', ' ').replace('\\t', ' ').strip()\n",
    "    return text\n"
   ]
  },
  {
   "cell_type": "code",
   "execution_count": 10,
   "metadata": {},
   "outputs": [],
   "source": [
    "df_order_reviews['review_comment_message'] = df_order_reviews['review_comment_message'].apply(clean_text)"
   ]
  },
  {
   "cell_type": "code",
   "execution_count": 11,
   "metadata": {},
   "outputs": [],
   "source": [
    "def emotional_class(score):\n",
    "    if score < 3:\n",
    "        return \"Negative\"\n",
    "    elif score == 3:\n",
    "        return \"Neutral\"\n",
    "    else:\n",
    "        return \"Positive\""
   ]
  },
  {
   "cell_type": "code",
   "execution_count": 12,
   "metadata": {},
   "outputs": [],
   "source": [
    "df_order_reviews['emotional_class'] = df_order_reviews['review_score'].apply(emotional_class).astype('category')\n",
    "label_encoder = LabelEncoder()\n",
    "df_order_reviews['emotional_class_encoded'] = label_encoder.fit_transform(df_order_reviews['emotional_class'])"
   ]
  },
  {
   "cell_type": "code",
   "execution_count": 13,
   "metadata": {},
   "outputs": [
    {
     "data": {
      "text/plain": [
       "emotional_class\n",
       "Positive    26680\n",
       "Negative    11408\n",
       "Neutral      3665\n",
       "Name: count, dtype: int64"
      ]
     },
     "execution_count": 13,
     "metadata": {},
     "output_type": "execute_result"
    }
   ],
   "source": [
    "df_order_reviews['emotional_class'].value_counts()"
   ]
  },
  {
   "cell_type": "code",
   "execution_count": 14,
   "metadata": {},
   "outputs": [
    {
     "data": {
      "text/html": [
       "<div>\n",
       "<style scoped>\n",
       "    .dataframe tbody tr th:only-of-type {\n",
       "        vertical-align: middle;\n",
       "    }\n",
       "\n",
       "    .dataframe tbody tr th {\n",
       "        vertical-align: top;\n",
       "    }\n",
       "\n",
       "    .dataframe thead th {\n",
       "        text-align: right;\n",
       "    }\n",
       "</style>\n",
       "<table border=\"1\" class=\"dataframe\">\n",
       "  <thead>\n",
       "    <tr style=\"text-align: right;\">\n",
       "      <th></th>\n",
       "      <th>review_id</th>\n",
       "      <th>order_id</th>\n",
       "      <th>review_score</th>\n",
       "      <th>review_comment_title</th>\n",
       "      <th>review_comment_message</th>\n",
       "      <th>review_creation_date</th>\n",
       "      <th>review_answer_timestamp</th>\n",
       "      <th>emotional_class</th>\n",
       "      <th>emotional_class_encoded</th>\n",
       "    </tr>\n",
       "  </thead>\n",
       "  <tbody>\n",
       "    <tr>\n",
       "      <th>3</th>\n",
       "      <td>e64fb393e7b32834bb789ff8bb30750e</td>\n",
       "      <td>658677c97b385a9be170737859d3511b</td>\n",
       "      <td>5</td>\n",
       "      <td>NaN</td>\n",
       "      <td>recebi bem antes do prazo estipulado.</td>\n",
       "      <td>2017-04-21 00:00:00</td>\n",
       "      <td>2017-04-21 22:02:06</td>\n",
       "      <td>Positive</td>\n",
       "      <td>2</td>\n",
       "    </tr>\n",
       "    <tr>\n",
       "      <th>4</th>\n",
       "      <td>f7c4243c7fe1938f181bec41a392bdeb</td>\n",
       "      <td>8e6bfb81e283fa7e4f11123a3fb894f1</td>\n",
       "      <td>5</td>\n",
       "      <td>NaN</td>\n",
       "      <td>parabéns lojas lannister adorei comprar pela i...</td>\n",
       "      <td>2018-03-01 00:00:00</td>\n",
       "      <td>2018-03-02 10:26:53</td>\n",
       "      <td>Positive</td>\n",
       "      <td>2</td>\n",
       "    </tr>\n",
       "    <tr>\n",
       "      <th>9</th>\n",
       "      <td>8670d52e15e00043ae7de4c01cc2fe06</td>\n",
       "      <td>b9bf720beb4ab3728760088589c62129</td>\n",
       "      <td>4</td>\n",
       "      <td>recomendo</td>\n",
       "      <td>aparelho eficiente. no site a marca do aparelh...</td>\n",
       "      <td>2018-05-22 00:00:00</td>\n",
       "      <td>2018-05-23 16:45:47</td>\n",
       "      <td>Positive</td>\n",
       "      <td>2</td>\n",
       "    </tr>\n",
       "    <tr>\n",
       "      <th>12</th>\n",
       "      <td>4b49719c8a200003f700d3d986ea1a19</td>\n",
       "      <td>9d6f15f95d01e79bd1349cc208361f09</td>\n",
       "      <td>4</td>\n",
       "      <td>NaN</td>\n",
       "      <td>mas um pouco ,travando...pelo valor ta boa.</td>\n",
       "      <td>2018-02-16 00:00:00</td>\n",
       "      <td>2018-02-20 10:52:22</td>\n",
       "      <td>Positive</td>\n",
       "      <td>2</td>\n",
       "    </tr>\n",
       "    <tr>\n",
       "      <th>15</th>\n",
       "      <td>3948b09f7c818e2d86c9a546758b2335</td>\n",
       "      <td>e51478e7e277a83743b6f9991dbfa3fb</td>\n",
       "      <td>5</td>\n",
       "      <td>Super recomendo</td>\n",
       "      <td>vendedor confiável, produto ok e entrega antes...</td>\n",
       "      <td>2018-05-23 00:00:00</td>\n",
       "      <td>2018-05-24 03:00:01</td>\n",
       "      <td>Positive</td>\n",
       "      <td>2</td>\n",
       "    </tr>\n",
       "  </tbody>\n",
       "</table>\n",
       "</div>"
      ],
      "text/plain": [
       "                           review_id                          order_id   \n",
       "3   e64fb393e7b32834bb789ff8bb30750e  658677c97b385a9be170737859d3511b  \\\n",
       "4   f7c4243c7fe1938f181bec41a392bdeb  8e6bfb81e283fa7e4f11123a3fb894f1   \n",
       "9   8670d52e15e00043ae7de4c01cc2fe06  b9bf720beb4ab3728760088589c62129   \n",
       "12  4b49719c8a200003f700d3d986ea1a19  9d6f15f95d01e79bd1349cc208361f09   \n",
       "15  3948b09f7c818e2d86c9a546758b2335  e51478e7e277a83743b6f9991dbfa3fb   \n",
       "\n",
       "    review_score review_comment_title   \n",
       "3              5                  NaN  \\\n",
       "4              5                  NaN   \n",
       "9              4            recomendo   \n",
       "12             4                  NaN   \n",
       "15             5      Super recomendo   \n",
       "\n",
       "                               review_comment_message review_creation_date   \n",
       "3               recebi bem antes do prazo estipulado.  2017-04-21 00:00:00  \\\n",
       "4   parabéns lojas lannister adorei comprar pela i...  2018-03-01 00:00:00   \n",
       "9   aparelho eficiente. no site a marca do aparelh...  2018-05-22 00:00:00   \n",
       "12        mas um pouco ,travando...pelo valor ta boa.  2018-02-16 00:00:00   \n",
       "15  vendedor confiável, produto ok e entrega antes...  2018-05-23 00:00:00   \n",
       "\n",
       "   review_answer_timestamp emotional_class  emotional_class_encoded  \n",
       "3      2017-04-21 22:02:06        Positive                        2  \n",
       "4      2018-03-02 10:26:53        Positive                        2  \n",
       "9      2018-05-23 16:45:47        Positive                        2  \n",
       "12     2018-02-20 10:52:22        Positive                        2  \n",
       "15     2018-05-24 03:00:01        Positive                        2  "
      ]
     },
     "execution_count": 14,
     "metadata": {},
     "output_type": "execute_result"
    }
   ],
   "source": [
    "df_order_reviews.head()"
   ]
  },
  {
   "cell_type": "markdown",
   "metadata": {},
   "source": [
    "## Create model"
   ]
  },
  {
   "cell_type": "code",
   "execution_count": 15,
   "metadata": {},
   "outputs": [],
   "source": [
    "#vectorize text\n",
    "def custom_standardization(input_data):\n",
    "  lowercase = tf.strings.lower(input_data)\n",
    "  stripped_html = tf.strings.regex_replace(lowercase, '<br />', ' ')\n",
    "  return tf.strings.regex_replace(stripped_html,\n",
    "                                  '[%s]' % re.escape(string.punctuation), '')\n",
    "\n",
    "\n",
    "vocab_size = 10000\n",
    "sequence_length = 100\n",
    "\n",
    "vectorize_layer = TextVectorization(\n",
    "    standardize=custom_standardization,\n",
    "    max_tokens=vocab_size,\n",
    "    output_mode='int',\n",
    "    output_sequence_length=sequence_length)\n",
    "\n",
    "vectorize_layer.adapt(df_order_reviews['review_comment_message'].values)"
   ]
  },
  {
   "cell_type": "code",
   "execution_count": 16,
   "metadata": {},
   "outputs": [
    {
     "name": "stdout",
     "output_type": "stream",
     "text": [
      "Epoch 1/15\n",
      "1305/1305 [==============================] - 14s 7ms/step - loss: 0.6907 - accuracy: 0.7175\n",
      "Epoch 2/15\n",
      "1305/1305 [==============================] - 10s 8ms/step - loss: 0.4847 - accuracy: 0.8271\n",
      "Epoch 3/15\n",
      "1305/1305 [==============================] - 9s 7ms/step - loss: 0.4375 - accuracy: 0.8452\n",
      "Epoch 4/15\n",
      "1305/1305 [==============================] - 8s 6ms/step - loss: 0.4100 - accuracy: 0.8541\n",
      "Epoch 5/15\n",
      "1305/1305 [==============================] - 9s 7ms/step - loss: 0.3912 - accuracy: 0.8608\n",
      "Epoch 6/15\n",
      "1305/1305 [==============================] - 8s 6ms/step - loss: 0.3768 - accuracy: 0.8661\n",
      "Epoch 7/15\n",
      "1305/1305 [==============================] - 8s 6ms/step - loss: 0.3658 - accuracy: 0.8698\n",
      "Epoch 8/15\n",
      "1305/1305 [==============================] - 11s 9ms/step - loss: 0.3537 - accuracy: 0.8746\n",
      "Epoch 9/15\n",
      "1305/1305 [==============================] - 8s 6ms/step - loss: 0.3432 - accuracy: 0.8785\n",
      "Epoch 10/15\n",
      "1305/1305 [==============================] - 11s 8ms/step - loss: 0.3335 - accuracy: 0.8835\n",
      "Epoch 11/15\n",
      "1305/1305 [==============================] - 13s 10ms/step - loss: 0.3246 - accuracy: 0.8864\n",
      "Epoch 12/15\n",
      "1305/1305 [==============================] - 12s 9ms/step - loss: 0.3146 - accuracy: 0.8910\n",
      "Epoch 13/15\n",
      "1305/1305 [==============================] - 17s 13ms/step - loss: 0.3056 - accuracy: 0.8947\n",
      "Epoch 14/15\n",
      "1305/1305 [==============================] - 12s 9ms/step - loss: 0.2970 - accuracy: 0.8982\n",
      "Epoch 15/15\n",
      "1305/1305 [==============================] - 9s 7ms/step - loss: 0.2900 - accuracy: 0.9030\n"
     ]
    },
    {
     "data": {
      "text/plain": [
       "<keras.callbacks.History at 0x268ea07f910>"
      ]
     },
     "execution_count": 16,
     "metadata": {},
     "output_type": "execute_result"
    }
   ],
   "source": [
    "\n",
    "def custom_standardization(input_data):\n",
    "    lowercase = tf.strings.lower(input_data)\n",
    "    stripped_html = tf.strings.regex_replace(lowercase, '<br />', ' ')\n",
    "    return tf.strings.regex_replace(stripped_html, '[%s]' % re.escape(string.punctuation), '')\n",
    "\n",
    "label_encoder = LabelEncoder()\n",
    "df_order_reviews['emotional_class_encoded'] = label_encoder.fit_transform(df_order_reviews['emotional_class'])\n",
    "\n",
    "vocab_size = 10000\n",
    "sequence_length = 100\n",
    "\n",
    "vectorize_layer = TextVectorization(\n",
    "    standardize=custom_standardization,\n",
    "    max_tokens=vocab_size,\n",
    "    output_mode='int',\n",
    "    output_sequence_length=sequence_length)\n",
    "\n",
    "vectorize_layer.adapt(df_order_reviews['review_comment_message'].values)\n",
    "\n",
    "embedding_dim = 16\n",
    "\n",
    "model_emotional = Sequential([\n",
    "    vectorize_layer,\n",
    "    Embedding(vocab_size, embedding_dim, name=\"embedding\"),\n",
    "    GlobalAveragePooling1D(),\n",
    "    Dense(16, activation='relu'),\n",
    "    Dense(3, activation='softmax')\n",
    "])\n",
    "\n",
    "model_emotional.compile(optimizer='adam',\n",
    "              loss=tf.keras.losses.SparseCategoricalCrossentropy(from_logits=False),\n",
    "              metrics=['accuracy'])\n",
    "\n",
    "X = df_order_reviews['review_comment_message'].values\n",
    "y = df_order_reviews['emotional_class_encoded'].values\n",
    "\n",
    "X = np.array(X)\n",
    "y = np.array(y)\n",
    "\n",
    "\n",
    "model_emotional.fit(X, y, epochs=15, batch_size=32)  "
   ]
  },
  {
   "cell_type": "markdown",
   "metadata": {},
   "source": [
    "## Analysis"
   ]
  },
  {
   "cell_type": "code",
   "execution_count": 17,
   "metadata": {},
   "outputs": [
    {
     "data": {
      "image/png": "[encoded data removed]",
      "text/plain": [
       "<Figure size 1000x500 with 1 Axes>"
      ]
     },
     "metadata": {},
     "output_type": "display_data"
    }
   ],
   "source": [
    "classes_counts = df_order_reviews['emotional_class'].value_counts()\n",
    "\n",
    "plt.figure(figsize=(10, 5))\n",
    "sns.barplot(x=classes_counts.index, y=classes_counts.values)\n",
    "plt.title('Emotional Class Distribution')\n",
    "plt.show()"
   ]
  },
  {
   "cell_type": "markdown",
   "metadata": {},
   "source": [
    "As we can see from the plot above there are not much samples for neutral and negative classes. This can be a problem for the model to learn the features of these classes.\n",
    "\n",
    "Now let's see the confusion matrix of the model."
   ]
  },
  {
   "cell_type": "code",
   "execution_count": 26,
   "metadata": {},
   "outputs": [
    {
     "name": "stdout",
     "output_type": "stream",
     "text": [
      "1305/1305 [==============================] - 7s 5ms/step\n"
     ]
    },
    {
     "data": {
      "image/png": "[encoded data removed]",
      "text/plain": [
       "<Figure size 1000x500 with 2 Axes>"
      ]
     },
     "metadata": {},
     "output_type": "display_data"
    }
   ],
   "source": [
    "from sklearn.metrics import confusion_matrix\n",
    "\n",
    "y_pred = model_emotional.predict(X)\n",
    "y_pred = np.argmax(y_pred, axis=1)\n",
    "\n",
    "cm = confusion_matrix(y, y_pred, normalize='true')\n",
    "\n",
    "plt.figure(figsize=(10, 5))\n",
    "sns.heatmap(cm, annot=True, cmap='Blues', xticklabels=label_encoder.classes_, yticklabels=label_encoder.classes_)\n",
    "plt.xlabel('Predicted')\n",
    "plt.ylabel('Actual')\n",
    "plt.title('Confusion Matrix')\n",
    "plt.show()\n"
   ]
  },
  {
   "cell_type": "markdown",
   "metadata": {},
   "source": [
    "From the confusion matrix we can see that the model is not able to classify the neutral. This is due to the lack of samples for these classes."
   ]
  },
  {
   "cell_type": "markdown",
   "metadata": {},
   "source": [
    "# Second part - Price retrieval"
   ]
  },
  {
   "cell_type": "markdown",
   "metadata": {},
   "source": [
    "## Data preprocessing"
   ]
  },
  {
   "cell_type": "code",
   "execution_count": 18,
   "metadata": {},
   "outputs": [],
   "source": [
    "data = pd.merge(df_order_reviews, df_order_items, on='order_id', how='inner')"
   ]
  },
  {
   "cell_type": "code",
   "execution_count": 19,
   "metadata": {},
   "outputs": [
    {
     "data": {
      "text/html": [
       "<div>\n",
       "<style scoped>\n",
       "    .dataframe tbody tr th:only-of-type {\n",
       "        vertical-align: middle;\n",
       "    }\n",
       "\n",
       "    .dataframe tbody tr th {\n",
       "        vertical-align: top;\n",
       "    }\n",
       "\n",
       "    .dataframe thead th {\n",
       "        text-align: right;\n",
       "    }\n",
       "</style>\n",
       "<table border=\"1\" class=\"dataframe\">\n",
       "  <thead>\n",
       "    <tr style=\"text-align: right;\">\n",
       "      <th></th>\n",
       "      <th>review_id</th>\n",
       "      <th>order_id</th>\n",
       "      <th>review_score</th>\n",
       "      <th>review_comment_title</th>\n",
       "      <th>review_comment_message</th>\n",
       "      <th>review_creation_date</th>\n",
       "      <th>review_answer_timestamp</th>\n",
       "      <th>emotional_class</th>\n",
       "      <th>emotional_class_encoded</th>\n",
       "      <th>order_item_id</th>\n",
       "      <th>product_id</th>\n",
       "      <th>seller_id</th>\n",
       "      <th>shipping_limit_date</th>\n",
       "      <th>price</th>\n",
       "      <th>freight_value</th>\n",
       "    </tr>\n",
       "  </thead>\n",
       "  <tbody>\n",
       "    <tr>\n",
       "      <th>0</th>\n",
       "      <td>e64fb393e7b32834bb789ff8bb30750e</td>\n",
       "      <td>658677c97b385a9be170737859d3511b</td>\n",
       "      <td>5</td>\n",
       "      <td>NaN</td>\n",
       "      <td>recebi bem antes do prazo estipulado.</td>\n",
       "      <td>2017-04-21 00:00:00</td>\n",
       "      <td>2017-04-21 22:02:06</td>\n",
       "      <td>Positive</td>\n",
       "      <td>2</td>\n",
       "      <td>1</td>\n",
       "      <td>52c80cedd4e90108bf4fa6a206ef6b03</td>\n",
       "      <td>a1043bafd471dff536d0c462352beb48</td>\n",
       "      <td>2017-04-13 17:55:19</td>\n",
       "      <td>179.99</td>\n",
       "      <td>42.85</td>\n",
       "    </tr>\n",
       "    <tr>\n",
       "      <th>1</th>\n",
       "      <td>f7c4243c7fe1938f181bec41a392bdeb</td>\n",
       "      <td>8e6bfb81e283fa7e4f11123a3fb894f1</td>\n",
       "      <td>5</td>\n",
       "      <td>NaN</td>\n",
       "      <td>parabéns lojas lannister adorei comprar pela i...</td>\n",
       "      <td>2018-03-01 00:00:00</td>\n",
       "      <td>2018-03-02 10:26:53</td>\n",
       "      <td>Positive</td>\n",
       "      <td>2</td>\n",
       "      <td>1</td>\n",
       "      <td>3880d25d502b15b1de6fddc42ad1d67a</td>\n",
       "      <td>989becdce12ebc39863c2bceab6f3ca1</td>\n",
       "      <td>2018-02-15 15:48:21</td>\n",
       "      <td>1199.00</td>\n",
       "      <td>134.25</td>\n",
       "    </tr>\n",
       "    <tr>\n",
       "      <th>2</th>\n",
       "      <td>8670d52e15e00043ae7de4c01cc2fe06</td>\n",
       "      <td>b9bf720beb4ab3728760088589c62129</td>\n",
       "      <td>4</td>\n",
       "      <td>recomendo</td>\n",
       "      <td>aparelho eficiente. no site a marca do aparelh...</td>\n",
       "      <td>2018-05-22 00:00:00</td>\n",
       "      <td>2018-05-23 16:45:47</td>\n",
       "      <td>Positive</td>\n",
       "      <td>2</td>\n",
       "      <td>1</td>\n",
       "      <td>61a4100ccd6d9c4c808a1fd954ddb8ad</td>\n",
       "      <td>05ff92fedb5be47920fea08e501238b9</td>\n",
       "      <td>2018-05-17 10:31:31</td>\n",
       "      <td>586.56</td>\n",
       "      <td>26.69</td>\n",
       "    </tr>\n",
       "    <tr>\n",
       "      <th>3</th>\n",
       "      <td>4b49719c8a200003f700d3d986ea1a19</td>\n",
       "      <td>9d6f15f95d01e79bd1349cc208361f09</td>\n",
       "      <td>4</td>\n",
       "      <td>NaN</td>\n",
       "      <td>mas um pouco ,travando...pelo valor ta boa.</td>\n",
       "      <td>2018-02-16 00:00:00</td>\n",
       "      <td>2018-02-20 10:52:22</td>\n",
       "      <td>Positive</td>\n",
       "      <td>2</td>\n",
       "      <td>1</td>\n",
       "      <td>acffe5d7cd56e6b564cf6841486644ff</td>\n",
       "      <td>db4350fd57ae30082dec7acbaacc17f9</td>\n",
       "      <td>2018-02-16 16:27:39</td>\n",
       "      <td>35.00</td>\n",
       "      <td>7.78</td>\n",
       "    </tr>\n",
       "    <tr>\n",
       "      <th>4</th>\n",
       "      <td>3948b09f7c818e2d86c9a546758b2335</td>\n",
       "      <td>e51478e7e277a83743b6f9991dbfa3fb</td>\n",
       "      <td>5</td>\n",
       "      <td>Super recomendo</td>\n",
       "      <td>vendedor confiável, produto ok e entrega antes...</td>\n",
       "      <td>2018-05-23 00:00:00</td>\n",
       "      <td>2018-05-24 03:00:01</td>\n",
       "      <td>Positive</td>\n",
       "      <td>2</td>\n",
       "      <td>1</td>\n",
       "      <td>6871a3c157d6f51697e887f3c3598479</td>\n",
       "      <td>974cf2cb8f4b7add98709c30df02fe10</td>\n",
       "      <td>2018-05-24 18:31:29</td>\n",
       "      <td>89.99</td>\n",
       "      <td>13.07</td>\n",
       "    </tr>\n",
       "  </tbody>\n",
       "</table>\n",
       "</div>"
      ],
      "text/plain": [
       "                          review_id                          order_id   \n",
       "0  e64fb393e7b32834bb789ff8bb30750e  658677c97b385a9be170737859d3511b  \\\n",
       "1  f7c4243c7fe1938f181bec41a392bdeb  8e6bfb81e283fa7e4f11123a3fb894f1   \n",
       "2  8670d52e15e00043ae7de4c01cc2fe06  b9bf720beb4ab3728760088589c62129   \n",
       "3  4b49719c8a200003f700d3d986ea1a19  9d6f15f95d01e79bd1349cc208361f09   \n",
       "4  3948b09f7c818e2d86c9a546758b2335  e51478e7e277a83743b6f9991dbfa3fb   \n",
       "\n",
       "   review_score review_comment_title   \n",
       "0             5                  NaN  \\\n",
       "1             5                  NaN   \n",
       "2             4            recomendo   \n",
       "3             4                  NaN   \n",
       "4             5      Super recomendo   \n",
       "\n",
       "                              review_comment_message review_creation_date   \n",
       "0              recebi bem antes do prazo estipulado.  2017-04-21 00:00:00  \\\n",
       "1  parabéns lojas lannister adorei comprar pela i...  2018-03-01 00:00:00   \n",
       "2  aparelho eficiente. no site a marca do aparelh...  2018-05-22 00:00:00   \n",
       "3        mas um pouco ,travando...pelo valor ta boa.  2018-02-16 00:00:00   \n",
       "4  vendedor confiável, produto ok e entrega antes...  2018-05-23 00:00:00   \n",
       "\n",
       "  review_answer_timestamp emotional_class  emotional_class_encoded   \n",
       "0     2017-04-21 22:02:06        Positive                        2  \\\n",
       "1     2018-03-02 10:26:53        Positive                        2   \n",
       "2     2018-05-23 16:45:47        Positive                        2   \n",
       "3     2018-02-20 10:52:22        Positive                        2   \n",
       "4     2018-05-24 03:00:01        Positive                        2   \n",
       "\n",
       "   order_item_id                        product_id   \n",
       "0              1  52c80cedd4e90108bf4fa6a206ef6b03  \\\n",
       "1              1  3880d25d502b15b1de6fddc42ad1d67a   \n",
       "2              1  61a4100ccd6d9c4c808a1fd954ddb8ad   \n",
       "3              1  acffe5d7cd56e6b564cf6841486644ff   \n",
       "4              1  6871a3c157d6f51697e887f3c3598479   \n",
       "\n",
       "                          seller_id  shipping_limit_date    price   \n",
       "0  a1043bafd471dff536d0c462352beb48  2017-04-13 17:55:19   179.99  \\\n",
       "1  989becdce12ebc39863c2bceab6f3ca1  2018-02-15 15:48:21  1199.00   \n",
       "2  05ff92fedb5be47920fea08e501238b9  2018-05-17 10:31:31   586.56   \n",
       "3  db4350fd57ae30082dec7acbaacc17f9  2018-02-16 16:27:39    35.00   \n",
       "4  974cf2cb8f4b7add98709c30df02fe10  2018-05-24 18:31:29    89.99   \n",
       "\n",
       "   freight_value  \n",
       "0          42.85  \n",
       "1         134.25  \n",
       "2          26.69  \n",
       "3           7.78  \n",
       "4          13.07  "
      ]
     },
     "execution_count": 19,
     "metadata": {},
     "output_type": "execute_result"
    }
   ],
   "source": [
    "data.head()"
   ]
  },
  {
   "cell_type": "markdown",
   "metadata": {},
   "source": [
    "## Create algorithm"
   ]
  },
  {
   "cell_type": "code",
   "execution_count": 20,
   "metadata": {},
   "outputs": [],
   "source": [
    "#detect price in the comment\n",
    "def detect_price_mentions(comment):\n",
    "    regex_patterns = [\n",
    "        r'[rR]\\$\\s*\\d{1,3}(?:[.,]\\d{3})*(?:[.,]\\d{2})?',# Brazilian Real\n",
    "        r\"\\$\\s*\\d{1,3}(?:[.,]\\d{3})*(?:[.,]\\d{2})?\",  # US Dollar and similar formats\n",
    "        r'ARS\\s*\\d{1,3}(?:[.,]\\d{3})*(?:[.,]\\d{2})?', # Argentine Peso\n",
    "        r'CLP\\s*\\d{1,3}(?:[.,]\\d{3})*(?:[.,]\\d{2})?', # Chilean Peso\n",
    "        r'\\d{1,3}(?:[.,]\\d{3})*(?:[.,]\\d{2})?\\s*USD', # US Dollar\n",
    "        r'\\d{1,3}(?:[.,]\\d{3})*(?:[.,]\\d{2})?\\s*[rR]\\$', # Brazilian Real\n",
    "        r'\\d{1,3}(?:[.,]\\d{3})*(?:[.,]\\d{2})?\\s*ARS', # Argentine Peso\n",
    "        r'\\d{1,3}(?:[.,]\\d{3})*(?:[.,]\\d{2})?\\s*CLP', # Chilean Peso\n",
    "    ]\n",
    "    \n",
    "    combined_pattern = '|'.join(regex_patterns)\n",
    "    \n",
    "    matches = re.findall(combined_pattern, comment)\n",
    "    \n",
    "    def to_float(value):\n",
    "        return float(value.replace(',', '.'))\n",
    "\n",
    "    if len(matches) > 0:\n",
    "        #get only values without currency\n",
    "        matches = list(map(to_float, [re.findall(r'\\d{1,3}(?:[.,]\\d{3})*(?:[.,]\\d{2})?', match)[0] for match in matches]))\n",
    "\n",
    "        return matches\n",
    "    else:\n",
    "        return None"
   ]
  },
  {
   "cell_type": "code",
   "execution_count": 21,
   "metadata": {},
   "outputs": [],
   "source": [
    "data['price_mention'] = data['review_comment_message'].apply(detect_price_mentions)"
   ]
  },
  {
   "cell_type": "code",
   "execution_count": 22,
   "metadata": {},
   "outputs": [
    {
     "data": {
      "text/html": [
       "<div>\n",
       "<style scoped>\n",
       "    .dataframe tbody tr th:only-of-type {\n",
       "        vertical-align: middle;\n",
       "    }\n",
       "\n",
       "    .dataframe tbody tr th {\n",
       "        vertical-align: top;\n",
       "    }\n",
       "\n",
       "    .dataframe thead th {\n",
       "        text-align: right;\n",
       "    }\n",
       "</style>\n",
       "<table border=\"1\" class=\"dataframe\">\n",
       "  <thead>\n",
       "    <tr style=\"text-align: right;\">\n",
       "      <th></th>\n",
       "      <th>review_id</th>\n",
       "      <th>order_id</th>\n",
       "      <th>review_score</th>\n",
       "      <th>review_comment_title</th>\n",
       "      <th>review_comment_message</th>\n",
       "      <th>review_creation_date</th>\n",
       "      <th>review_answer_timestamp</th>\n",
       "      <th>emotional_class</th>\n",
       "      <th>emotional_class_encoded</th>\n",
       "      <th>order_item_id</th>\n",
       "      <th>product_id</th>\n",
       "      <th>seller_id</th>\n",
       "      <th>shipping_limit_date</th>\n",
       "      <th>price</th>\n",
       "      <th>freight_value</th>\n",
       "      <th>price_mention</th>\n",
       "    </tr>\n",
       "  </thead>\n",
       "  <tbody>\n",
       "    <tr>\n",
       "      <th>54</th>\n",
       "      <td>ae728c1061bf163b4bd256ad9ee0bb83</td>\n",
       "      <td>45c780334bc32cb77559a65c5f171160</td>\n",
       "      <td>1</td>\n",
       "      <td>NaN</td>\n",
       "      <td>este foi o pedido  balde com 128 peças - bloco...</td>\n",
       "      <td>2018-01-04 00:00:00</td>\n",
       "      <td>2018-01-10 09:52:57</td>\n",
       "      <td>Negative</td>\n",
       "      <td>0</td>\n",
       "      <td>1</td>\n",
       "      <td>5ed9eaf534f6936b51d0b6c5e4d5c2e9</td>\n",
       "      <td>8cbac7e12637ed9cffa18c7875207478</td>\n",
       "      <td>2017-12-29 02:39:37</td>\n",
       "      <td>25.00</td>\n",
       "      <td>23.09</td>\n",
       "      <td>[25.0, 35.9]</td>\n",
       "    </tr>\n",
       "    <tr>\n",
       "      <th>55</th>\n",
       "      <td>ae728c1061bf163b4bd256ad9ee0bb83</td>\n",
       "      <td>45c780334bc32cb77559a65c5f171160</td>\n",
       "      <td>1</td>\n",
       "      <td>NaN</td>\n",
       "      <td>este foi o pedido  balde com 128 peças - bloco...</td>\n",
       "      <td>2018-01-04 00:00:00</td>\n",
       "      <td>2018-01-10 09:52:57</td>\n",
       "      <td>Negative</td>\n",
       "      <td>0</td>\n",
       "      <td>2</td>\n",
       "      <td>5ed9eaf534f6936b51d0b6c5e4d5c2e9</td>\n",
       "      <td>8cbac7e12637ed9cffa18c7875207478</td>\n",
       "      <td>2017-12-29 02:39:37</td>\n",
       "      <td>25.00</td>\n",
       "      <td>23.09</td>\n",
       "      <td>[25.0, 35.9]</td>\n",
       "    </tr>\n",
       "    <tr>\n",
       "      <th>56</th>\n",
       "      <td>ae728c1061bf163b4bd256ad9ee0bb83</td>\n",
       "      <td>45c780334bc32cb77559a65c5f171160</td>\n",
       "      <td>1</td>\n",
       "      <td>NaN</td>\n",
       "      <td>este foi o pedido  balde com 128 peças - bloco...</td>\n",
       "      <td>2018-01-04 00:00:00</td>\n",
       "      <td>2018-01-10 09:52:57</td>\n",
       "      <td>Negative</td>\n",
       "      <td>0</td>\n",
       "      <td>3</td>\n",
       "      <td>0cf41187284d7f099adc8415a743ebbd</td>\n",
       "      <td>bbad7e518d7af88a0897397ffdca1979</td>\n",
       "      <td>2017-12-29 02:39:37</td>\n",
       "      <td>35.90</td>\n",
       "      <td>5.77</td>\n",
       "      <td>[25.0, 35.9]</td>\n",
       "    </tr>\n",
       "    <tr>\n",
       "      <th>722</th>\n",
       "      <td>445039377c9ce49bbfa8e4822c99ead7</td>\n",
       "      <td>94647755aed55676ec36da516c9d439f</td>\n",
       "      <td>1</td>\n",
       "      <td>NaN</td>\n",
       "      <td>eu recebi desta loja apenas dois pendentes. pa...</td>\n",
       "      <td>2018-02-02 00:00:00</td>\n",
       "      <td>2018-02-04 15:41:13</td>\n",
       "      <td>Negative</td>\n",
       "      <td>0</td>\n",
       "      <td>1</td>\n",
       "      <td>6d3d8ade6b793a08b041b6bc653c08ca</td>\n",
       "      <td>5343d0649eca2a983820bfe93fc4d17e</td>\n",
       "      <td>2018-02-01 03:15:54</td>\n",
       "      <td>39.00</td>\n",
       "      <td>20.64</td>\n",
       "      <td>[90.0]</td>\n",
       "    </tr>\n",
       "    <tr>\n",
       "      <th>723</th>\n",
       "      <td>445039377c9ce49bbfa8e4822c99ead7</td>\n",
       "      <td>94647755aed55676ec36da516c9d439f</td>\n",
       "      <td>1</td>\n",
       "      <td>NaN</td>\n",
       "      <td>eu recebi desta loja apenas dois pendentes. pa...</td>\n",
       "      <td>2018-02-02 00:00:00</td>\n",
       "      <td>2018-02-04 15:41:13</td>\n",
       "      <td>Negative</td>\n",
       "      <td>0</td>\n",
       "      <td>2</td>\n",
       "      <td>ff26009ac6b838dc6cffa2d589cdbefb</td>\n",
       "      <td>157c3e4b42f81ac4a44e8b1ca2fe9876</td>\n",
       "      <td>2018-02-01 03:15:54</td>\n",
       "      <td>90.00</td>\n",
       "      <td>10.32</td>\n",
       "      <td>[90.0]</td>\n",
       "    </tr>\n",
       "    <tr>\n",
       "      <th>724</th>\n",
       "      <td>445039377c9ce49bbfa8e4822c99ead7</td>\n",
       "      <td>94647755aed55676ec36da516c9d439f</td>\n",
       "      <td>1</td>\n",
       "      <td>NaN</td>\n",
       "      <td>eu recebi desta loja apenas dois pendentes. pa...</td>\n",
       "      <td>2018-02-02 00:00:00</td>\n",
       "      <td>2018-02-04 15:41:13</td>\n",
       "      <td>Negative</td>\n",
       "      <td>0</td>\n",
       "      <td>3</td>\n",
       "      <td>6d3d8ade6b793a08b041b6bc653c08ca</td>\n",
       "      <td>5343d0649eca2a983820bfe93fc4d17e</td>\n",
       "      <td>2018-02-01 03:15:54</td>\n",
       "      <td>39.00</td>\n",
       "      <td>20.64</td>\n",
       "      <td>[90.0]</td>\n",
       "    </tr>\n",
       "    <tr>\n",
       "      <th>1269</th>\n",
       "      <td>9e3ef52c33d9bb0445f0bddb3df4b1ea</td>\n",
       "      <td>9d39d357291a0e87c2c2816dabc0b23a</td>\n",
       "      <td>1</td>\n",
       "      <td>Comprei 4 chegou só 3</td>\n",
       "      <td>comprei 4 produtos, sendo que só recebi 3. fal...</td>\n",
       "      <td>2018-05-25 00:00:00</td>\n",
       "      <td>2018-05-29 05:22:39</td>\n",
       "      <td>Negative</td>\n",
       "      <td>0</td>\n",
       "      <td>1</td>\n",
       "      <td>5bd7e57735a44e529bf066fee83a9c60</td>\n",
       "      <td>609e1a9a6c2539919b8205cf7c4e6ff0</td>\n",
       "      <td>2018-05-22 18:19:02</td>\n",
       "      <td>59.90</td>\n",
       "      <td>11.71</td>\n",
       "      <td>[100.0]</td>\n",
       "    </tr>\n",
       "    <tr>\n",
       "      <th>1270</th>\n",
       "      <td>9e3ef52c33d9bb0445f0bddb3df4b1ea</td>\n",
       "      <td>9d39d357291a0e87c2c2816dabc0b23a</td>\n",
       "      <td>1</td>\n",
       "      <td>Comprei 4 chegou só 3</td>\n",
       "      <td>comprei 4 produtos, sendo que só recebi 3. fal...</td>\n",
       "      <td>2018-05-25 00:00:00</td>\n",
       "      <td>2018-05-29 05:22:39</td>\n",
       "      <td>Negative</td>\n",
       "      <td>0</td>\n",
       "      <td>2</td>\n",
       "      <td>46e477d89da734ac9f6b12073503711a</td>\n",
       "      <td>1835b56ce799e6a4dc4eddc053f04066</td>\n",
       "      <td>2018-05-22 18:19:02</td>\n",
       "      <td>90.99</td>\n",
       "      <td>11.71</td>\n",
       "      <td>[100.0]</td>\n",
       "    </tr>\n",
       "    <tr>\n",
       "      <th>1271</th>\n",
       "      <td>9e3ef52c33d9bb0445f0bddb3df4b1ea</td>\n",
       "      <td>9d39d357291a0e87c2c2816dabc0b23a</td>\n",
       "      <td>1</td>\n",
       "      <td>Comprei 4 chegou só 3</td>\n",
       "      <td>comprei 4 produtos, sendo que só recebi 3. fal...</td>\n",
       "      <td>2018-05-25 00:00:00</td>\n",
       "      <td>2018-05-29 05:22:39</td>\n",
       "      <td>Negative</td>\n",
       "      <td>0</td>\n",
       "      <td>3</td>\n",
       "      <td>e9e1e0a297e5a8f045e8c0395c4c745b</td>\n",
       "      <td>609e1a9a6c2539919b8205cf7c4e6ff0</td>\n",
       "      <td>2018-05-22 18:19:02</td>\n",
       "      <td>53.90</td>\n",
       "      <td>11.71</td>\n",
       "      <td>[100.0]</td>\n",
       "    </tr>\n",
       "    <tr>\n",
       "      <th>1272</th>\n",
       "      <td>9e3ef52c33d9bb0445f0bddb3df4b1ea</td>\n",
       "      <td>9d39d357291a0e87c2c2816dabc0b23a</td>\n",
       "      <td>1</td>\n",
       "      <td>Comprei 4 chegou só 3</td>\n",
       "      <td>comprei 4 produtos, sendo que só recebi 3. fal...</td>\n",
       "      <td>2018-05-25 00:00:00</td>\n",
       "      <td>2018-05-29 05:22:39</td>\n",
       "      <td>Negative</td>\n",
       "      <td>0</td>\n",
       "      <td>4</td>\n",
       "      <td>8b51c6ccc9c0548c951214e1cd1547ff</td>\n",
       "      <td>609e1a9a6c2539919b8205cf7c4e6ff0</td>\n",
       "      <td>2018-05-22 18:19:02</td>\n",
       "      <td>59.90</td>\n",
       "      <td>11.71</td>\n",
       "      <td>[100.0]</td>\n",
       "    </tr>\n",
       "  </tbody>\n",
       "</table>\n",
       "</div>"
      ],
      "text/plain": [
       "                             review_id                          order_id   \n",
       "54    ae728c1061bf163b4bd256ad9ee0bb83  45c780334bc32cb77559a65c5f171160  \\\n",
       "55    ae728c1061bf163b4bd256ad9ee0bb83  45c780334bc32cb77559a65c5f171160   \n",
       "56    ae728c1061bf163b4bd256ad9ee0bb83  45c780334bc32cb77559a65c5f171160   \n",
       "722   445039377c9ce49bbfa8e4822c99ead7  94647755aed55676ec36da516c9d439f   \n",
       "723   445039377c9ce49bbfa8e4822c99ead7  94647755aed55676ec36da516c9d439f   \n",
       "724   445039377c9ce49bbfa8e4822c99ead7  94647755aed55676ec36da516c9d439f   \n",
       "1269  9e3ef52c33d9bb0445f0bddb3df4b1ea  9d39d357291a0e87c2c2816dabc0b23a   \n",
       "1270  9e3ef52c33d9bb0445f0bddb3df4b1ea  9d39d357291a0e87c2c2816dabc0b23a   \n",
       "1271  9e3ef52c33d9bb0445f0bddb3df4b1ea  9d39d357291a0e87c2c2816dabc0b23a   \n",
       "1272  9e3ef52c33d9bb0445f0bddb3df4b1ea  9d39d357291a0e87c2c2816dabc0b23a   \n",
       "\n",
       "      review_score   review_comment_title   \n",
       "54               1                    NaN  \\\n",
       "55               1                    NaN   \n",
       "56               1                    NaN   \n",
       "722              1                    NaN   \n",
       "723              1                    NaN   \n",
       "724              1                    NaN   \n",
       "1269             1  Comprei 4 chegou só 3   \n",
       "1270             1  Comprei 4 chegou só 3   \n",
       "1271             1  Comprei 4 chegou só 3   \n",
       "1272             1  Comprei 4 chegou só 3   \n",
       "\n",
       "                                 review_comment_message review_creation_date   \n",
       "54    este foi o pedido  balde com 128 peças - bloco...  2018-01-04 00:00:00  \\\n",
       "55    este foi o pedido  balde com 128 peças - bloco...  2018-01-04 00:00:00   \n",
       "56    este foi o pedido  balde com 128 peças - bloco...  2018-01-04 00:00:00   \n",
       "722   eu recebi desta loja apenas dois pendentes. pa...  2018-02-02 00:00:00   \n",
       "723   eu recebi desta loja apenas dois pendentes. pa...  2018-02-02 00:00:00   \n",
       "724   eu recebi desta loja apenas dois pendentes. pa...  2018-02-02 00:00:00   \n",
       "1269  comprei 4 produtos, sendo que só recebi 3. fal...  2018-05-25 00:00:00   \n",
       "1270  comprei 4 produtos, sendo que só recebi 3. fal...  2018-05-25 00:00:00   \n",
       "1271  comprei 4 produtos, sendo que só recebi 3. fal...  2018-05-25 00:00:00   \n",
       "1272  comprei 4 produtos, sendo que só recebi 3. fal...  2018-05-25 00:00:00   \n",
       "\n",
       "     review_answer_timestamp emotional_class  emotional_class_encoded   \n",
       "54       2018-01-10 09:52:57        Negative                        0  \\\n",
       "55       2018-01-10 09:52:57        Negative                        0   \n",
       "56       2018-01-10 09:52:57        Negative                        0   \n",
       "722      2018-02-04 15:41:13        Negative                        0   \n",
       "723      2018-02-04 15:41:13        Negative                        0   \n",
       "724      2018-02-04 15:41:13        Negative                        0   \n",
       "1269     2018-05-29 05:22:39        Negative                        0   \n",
       "1270     2018-05-29 05:22:39        Negative                        0   \n",
       "1271     2018-05-29 05:22:39        Negative                        0   \n",
       "1272     2018-05-29 05:22:39        Negative                        0   \n",
       "\n",
       "      order_item_id                        product_id   \n",
       "54                1  5ed9eaf534f6936b51d0b6c5e4d5c2e9  \\\n",
       "55                2  5ed9eaf534f6936b51d0b6c5e4d5c2e9   \n",
       "56                3  0cf41187284d7f099adc8415a743ebbd   \n",
       "722               1  6d3d8ade6b793a08b041b6bc653c08ca   \n",
       "723               2  ff26009ac6b838dc6cffa2d589cdbefb   \n",
       "724               3  6d3d8ade6b793a08b041b6bc653c08ca   \n",
       "1269              1  5bd7e57735a44e529bf066fee83a9c60   \n",
       "1270              2  46e477d89da734ac9f6b12073503711a   \n",
       "1271              3  e9e1e0a297e5a8f045e8c0395c4c745b   \n",
       "1272              4  8b51c6ccc9c0548c951214e1cd1547ff   \n",
       "\n",
       "                             seller_id  shipping_limit_date  price   \n",
       "54    8cbac7e12637ed9cffa18c7875207478  2017-12-29 02:39:37  25.00  \\\n",
       "55    8cbac7e12637ed9cffa18c7875207478  2017-12-29 02:39:37  25.00   \n",
       "56    bbad7e518d7af88a0897397ffdca1979  2017-12-29 02:39:37  35.90   \n",
       "722   5343d0649eca2a983820bfe93fc4d17e  2018-02-01 03:15:54  39.00   \n",
       "723   157c3e4b42f81ac4a44e8b1ca2fe9876  2018-02-01 03:15:54  90.00   \n",
       "724   5343d0649eca2a983820bfe93fc4d17e  2018-02-01 03:15:54  39.00   \n",
       "1269  609e1a9a6c2539919b8205cf7c4e6ff0  2018-05-22 18:19:02  59.90   \n",
       "1270  1835b56ce799e6a4dc4eddc053f04066  2018-05-22 18:19:02  90.99   \n",
       "1271  609e1a9a6c2539919b8205cf7c4e6ff0  2018-05-22 18:19:02  53.90   \n",
       "1272  609e1a9a6c2539919b8205cf7c4e6ff0  2018-05-22 18:19:02  59.90   \n",
       "\n",
       "      freight_value price_mention  \n",
       "54            23.09  [25.0, 35.9]  \n",
       "55            23.09  [25.0, 35.9]  \n",
       "56             5.77  [25.0, 35.9]  \n",
       "722           20.64        [90.0]  \n",
       "723           10.32        [90.0]  \n",
       "724           20.64        [90.0]  \n",
       "1269          11.71       [100.0]  \n",
       "1270          11.71       [100.0]  \n",
       "1271          11.71       [100.0]  \n",
       "1272          11.71       [100.0]  "
      ]
     },
     "execution_count": 22,
     "metadata": {},
     "output_type": "execute_result"
    }
   ],
   "source": [
    "data[data['price_mention'].notnull()].head(10)"
   ]
  },
  {
   "cell_type": "markdown",
   "metadata": {},
   "source": [
    "## Analysis"
   ]
  },
  {
   "cell_type": "code",
   "execution_count": 30,
   "metadata": {},
   "outputs": [
    {
     "data": {
      "image/png": "[encoded data removed]",
      "text/plain": [
       "<Figure size 1000x500 with 1 Axes>"
      ]
     },
     "metadata": {},
     "output_type": "display_data"
    }
   ],
   "source": [
    "found_mentions = data[data['price_mention'].notnull()]['price_mention'].count()\n",
    "not_found_mentions = data.shape[0] - found_mentions\n",
    "\n",
    "plt.figure(figsize=(10, 5))\n",
    "plt.pie([found_mentions, not_found_mentions], labels=['Found Mentions', 'Not Found Mentions'], autopct='%1.1f%%')\n",
    "plt.title('Price Mentions Distribution')\n",
    "plt.show()\n"
   ]
  },
  {
   "cell_type": "markdown",
   "metadata": {},
   "source": [
    "As we can see there is not much comments that mention price in any of predicted ways."
   ]
  },
  {
   "cell_type": "code",
   "execution_count": 33,
   "metadata": {},
   "outputs": [
    {
     "data": {
      "image/png": "[encoded data removed]",
      "text/plain": [
       "<Figure size 1000x500 with 1 Axes>"
      ]
     },
     "metadata": {},
     "output_type": "display_data"
    }
   ],
   "source": [
    "def comment_has_same_price(x):\n",
    "    if x['price_mention'] is not None:\n",
    "        return x['price'] in x['price_mention']\n",
    "    else:\n",
    "        return False\n",
    "\n",
    "data['comment_has_same_price'] = data.apply(comment_has_same_price, axis=1)\n",
    "\n",
    "has_same_price_count = data[data[\"price_mention\"].notnull()]['comment_has_same_price'].value_counts()\n",
    "not_has_same_price_count = found_mentions - has_same_price_count.sum()\n",
    "\n",
    "plt.figure(figsize=(10, 5))\n",
    "plt.pie([has_same_price_count[True], not_has_same_price_count], labels=['Has Same Price', 'Not Has Same Price'], autopct='%1.1f%%')\n",
    "plt.title('Comments with Same Price Distribution')\n",
    "plt.show()"
   ]
  },
  {
   "cell_type": "markdown",
   "metadata": {},
   "source": [
    "Here we can see that every comment that has a price mention does it correctly."
   ]
  }
 ],
 "metadata": {
  "kernelspec": {
   "display_name": "Python 3",
   "language": "python",
   "name": "python3"
  },
  "language_info": {
   "codemirror_mode": {
    "name": "ipython",
    "version": 3
   },
   "file_extension": ".py",
   "mimetype": "text/x-python",
   "name": "python",
   "nbconvert_exporter": "python",
   "pygments_lexer": "ipython3",
   "version": "3.11.3"
  }
 },
 "nbformat": 4,
 "nbformat_minor": 2
}
